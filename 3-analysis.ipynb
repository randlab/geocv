{
 "cells": [
  {
   "cell_type": "markdown",
   "metadata": {},
   "source": [
    "# Analysis of cross-validation results"
   ]
  },
  {
   "cell_type": "code",
   "execution_count": null,
   "metadata": {},
   "outputs": [],
   "source": [
    "import pickle\n",
    "import os\n",
    "\n",
    "import numpy as np\n",
    "import pandas as pd\n",
    "import matplotlib.pyplot as plt\n",
    "\n",
    "from sklearn.dummy import DummyClassifier\n",
    "from sklearn.model_selection import cross_validate, StratifiedKFold\n",
    "\n",
    "from mpstool.cv_metrics import brier_score, zero_one_score, balanced_linear_score\n",
    "\n",
    "from geone.img import readImageGslib, readPointSetGslib\n",
    "from geone.img import Img\n",
    "from geone.imgplot import drawImage2D\n",
    "from geone.deesseinterface import DeesseEstimator"
   ]
  },
  {
   "cell_type": "code",
   "execution_count": null,
   "metadata": {},
   "outputs": [],
   "source": [
    "OUTPUT_DIR = 'output/'\n",
    "DATA_DIR = 'data/'\n",
    "SAMPLES_DIR = 'samples/'"
   ]
  },
  {
   "cell_type": "markdown",
   "metadata": {},
   "source": [
    "## Training image selection\n",
    "\n",
    "The benchmark case of training image selection with three candidate training images.\n",
    "First, we check sensitivity to number of realisations for probabilities estimation.\n",
    "Second, training image selection for different data sets."
   ]
  },
  {
   "cell_type": "markdown",
   "metadata": {},
   "source": [
    "### Sensitivity analysis"
   ]
  },
  {
   "cell_type": "markdown",
   "metadata": {},
   "source": [
    "First, check sensitivity of cross-validation to the number of realisations. There are 3 csv files: sensitivity_A.csv,sensitivity_B.csv and sensitivity_C.csv"
   ]
  },
  {
   "cell_type": "code",
   "execution_count": null,
   "metadata": {},
   "outputs": [],
   "source": [
    "# We performed the analysis for three dataset types A, B, C\n",
    "sensitivity_results = dict()\n",
    "for test_case in ['A', 'B', 'C']:\n",
    "    sensitivity_results[test_case] = pd.read_csv(OUTPUT_DIR+'sensitivity_{}.csv'.format(test_case))"
   ]
  },
  {
   "cell_type": "code",
   "execution_count": null,
   "metadata": {},
   "outputs": [],
   "source": [
    "# example of data frame for dataset A\n",
    "df_sensitivity = sensitivity_results['A']\n",
    "df_sensitivity[['param_TI', 'param_nrealization', 'mean_test_brier']].head()"
   ]
  },
  {
   "cell_type": "code",
   "execution_count": null,
   "metadata": {},
   "outputs": [],
   "source": [
    "def reference_score(observation_filename, score, varname='code_real00000'):\n",
    "    \"\"\"\n",
    "    Computes reference score for a given dataset using DummyClassifier with prior strategy\n",
    "    \"\"\"\n",
    "    cv = StratifiedKFold(n_splits=5,\n",
    "                     shuffle=True,\n",
    "                     random_state=20191201,\n",
    "                    )\n",
    "    df = pd.DataFrame(readPointSetGslib(observation_filename).to_dict())\n",
    "    dummy = DummyClassifier(strategy='prior')\n",
    "    cv_results = cross_validate(dummy, X=df[['X', 'Y', 'Z']], y=df[varname], cv=cv, scoring=score)\n",
    "    return np.mean(cv_results['test_score'])"
   ]
  },
  {
   "cell_type": "code",
   "execution_count": null,
   "metadata": {},
   "outputs": [],
   "source": [
    "def plot_sensitivities(score, score_column):\n",
    "    \"\"\"\n",
    "    Produces three plots (one for each dataset type) with score depending on number of realizations\n",
    "    \"\"\"\n",
    "    for test_case in ['A', 'B', 'C']:\n",
    "        plt.figure()\n",
    "        ax = plt.gca()\n",
    "        df = sensitivity_results[test_case]\n",
    "        df[df['param_TI'] == 'data/A.gslib'].plot(x='param_nrealization', y=score_column, ax=ax)\n",
    "        df[df['param_TI'] == 'data/B.gslib'].plot.line(x='param_nrealization', y=score_column, ax=ax)\n",
    "        df[df['param_TI'] == 'data/C.gslib'].plot.line(x='param_nrealization', y=score_column, ax=ax)\n",
    "        ax.axhline(reference_score(SAMPLES_DIR+'sample_{}_50.gslib'.format(test_case), score), c='black')\n",
    "        plt.legend(['A', 'B', 'C', 'reference'])"
   ]
  },
  {
   "cell_type": "code",
   "execution_count": null,
   "metadata": {},
   "outputs": [],
   "source": [
    "# Sensitivity using brier score\n",
    "plot_sensitivities(brier_score, 'mean_test_brier')"
   ]
  },
  {
   "cell_type": "code",
   "execution_count": null,
   "metadata": {},
   "outputs": [],
   "source": [
    "# Sensitivity using zero-one score\n",
    "plot_sensitivities(zero_one_score, 'mean_test_zero_one')"
   ]
  },
  {
   "cell_type": "code",
   "execution_count": null,
   "metadata": {},
   "outputs": [],
   "source": [
    "# Sensitivity using balanced linear score\n",
    "plot_sensitivities(balanced_linear_score, 'mean_test_linear')"
   ]
  },
  {
   "cell_type": "markdown",
   "metadata": {},
   "source": [
    "### Ti selection\n",
    "\n",
    "Now, let's move to the training images selection depending on different datasets (number of samples).\n",
    "Each result file (csv) has 3 entries (one line for each candidate TI). We need to gather the files in order to present them in common plots.\n",
    "\n",
    "The results are in OUTPUT_DIR, start with 'sample'. Each name is the same as the name of observation set but has .csv extension"
   ]
  },
  {
   "cell_type": "code",
   "execution_count": null,
   "metadata": {},
   "outputs": [],
   "source": [
    "result_files = [file for file in os.listdir(OUTPUT_DIR) if file.endswith(\".csv\") and file.startswith(\"sample\")]"
   ]
  },
  {
   "cell_type": "code",
   "execution_count": null,
   "metadata": {},
   "outputs": [],
   "source": [
    "def case_and_samples(result_filename):\n",
    "    \"\"\"\n",
    "    Gets A, B or C (case) and number of samples from string representing name of result file\n",
    "    \"\"\"\n",
    "    try:\n",
    "        case, nsamples = result_filename.split('sample_')[1].split('.csv')[0].split('_')\n",
    "        return case, int(nsamples)\n",
    "    except IndexError:\n",
    "        print(result_filename)\n",
    "        raise"
   ]
  },
  {
   "cell_type": "code",
   "execution_count": null,
   "metadata": {},
   "outputs": [],
   "source": [
    "# gather all results in one DataFrame and add reference scores\n",
    "df_ti_selection = pd.DataFrame()\n",
    "for result in result_files:\n",
    "    df = pd.read_csv(OUTPUT_DIR+result)\n",
    "    df['type'], df['nsamples'] = case_and_samples(result)\n",
    "    df['ref_brier'] = reference_score(SAMPLES_DIR+result.split('.')[0]+'.gslib', brier_score)\n",
    "    df['ref_zero_one'] = reference_score(SAMPLES_DIR+result.split('.')[0]+'.gslib', zero_one_score)\n",
    "    df['ref_linear'] = reference_score(SAMPLES_DIR+result.split('.')[0]+'.gslib', balanced_linear_score)\n",
    "    df_ti_selection = df_ti_selection.append(df)"
   ]
  },
  {
   "cell_type": "code",
   "execution_count": null,
   "metadata": {},
   "outputs": [],
   "source": [
    "df_ti_selection[['param_TI', 'mean_test_brier']].head()"
   ]
  },
  {
   "cell_type": "code",
   "execution_count": null,
   "metadata": {},
   "outputs": [],
   "source": [
    "def plot_ti_selection(ref_score_name, score_name):\n",
    "    for observation_type in ['A', 'B', 'C']:\n",
    "        plt.figure()\n",
    "        ax = plt.gca()\n",
    "        df = df_ti_selection[df_ti_selection.type==observation_type].sort_values(by = 'nsamples')\n",
    "        df[df.param_TI=='data/A.gslib'].plot(x='nsamples', y=score_name, ax=ax, logx=True)\n",
    "        df[df.param_TI=='data/B.gslib'].plot(x='nsamples', y=score_name, ax=ax, logx=True)\n",
    "        df[df.param_TI=='data/C.gslib'].plot(x='nsamples', y=score_name, ax=ax, logx=True)\n",
    "        df.plot(x='nsamples', y=ref_score_name, ax=ax, logx=True)\n",
    "        plt.legend(['A', 'B', 'C', 'ref'])"
   ]
  },
  {
   "cell_type": "code",
   "execution_count": null,
   "metadata": {},
   "outputs": [],
   "source": [
    "plot_ti_selection('ref_brier', 'mean_test_brier')"
   ]
  },
  {
   "cell_type": "code",
   "execution_count": null,
   "metadata": {
    "scrolled": false
   },
   "outputs": [],
   "source": [
    "plot_ti_selection('ref_zero_one', 'mean_test_zero_one')"
   ]
  },
  {
   "cell_type": "code",
   "execution_count": null,
   "metadata": {},
   "outputs": [],
   "source": [
    "plot_ti_selection('ref_linear', 'mean_test_linear')"
   ]
  },
  {
   "cell_type": "markdown",
   "metadata": {},
   "source": [
    "## Parameter selection (Roussillon)\n",
    "\n",
    "Three datasets with: 50, 150, 600 points each. In output directory: roussillon_observations_50.csv, etc."
   ]
  },
  {
   "cell_type": "code",
   "execution_count": null,
   "metadata": {},
   "outputs": [],
   "source": [
    "df_roussillon = pd.read_csv(OUTPUT_DIR+'roussillon_observations_50.csv')\n",
    "df_roussillon.head()"
   ]
  },
  {
   "cell_type": "code",
   "execution_count": null,
   "metadata": {},
   "outputs": [],
   "source": [
    "def best_results_for_each_TI(nsamples, score, score_name):\n",
    "    df = pd.read_csv(OUTPUT_DIR+'roussillon_observations_{}.csv'.format(nsamples))\n",
    "    info = ['param_TI',\n",
    "        'param_distanceThreshold',\n",
    "        'param_maxScanFraction',\n",
    "        'param_nneighboringNode',\n",
    "        ]\n",
    "    ref = reference_score(observation_filename=SAMPLES_DIR+'roussillon_observations_{}.gslib'.format(nsamples),\n",
    "                          score=score, varname='Facies_real00000')\n",
    "    df['ref_score'] = ref\n",
    "    df1 = df[df['param_TI'] == 'data/trueTI.gslib'].sort_values('mean_test_'+score_name,ascending=False).head(1)\n",
    "    df2 = df[df['param_TI'] == 'data/analogTI.gslib'].sort_values('mean_test_'+score_name,ascending=False).head(1)\n",
    "    return df1.append(df2, ignore_index=True)"
   ]
  },
  {
   "cell_type": "code",
   "execution_count": null,
   "metadata": {},
   "outputs": [],
   "source": [
    "info = ['param_TI',\n",
    "        'param_distanceThreshold',\n",
    "        'param_maxScanFraction',\n",
    "        'param_nneighboringNode',\n",
    "        'mean_test_score',\n",
    "        'score_method',\n",
    "        'nsamples',\n",
    "        'ref_score'\n",
    "       ]\n",
    "\n",
    "df_best_roussillon = pd.DataFrame()\n",
    "for nsamples in [50, 150, 600]:\n",
    "    for score in [(brier_score, 'brier'), (zero_one_score, 'zero_one'), (balanced_linear_score, 'linear')]:\n",
    "        df = best_results_for_each_TI(nsamples, score[0], score[1])\n",
    "        df['mean_test_score'] = df['mean_test_{}'.format(score[1])]\n",
    "        df['score_method'] = score[1]\n",
    "        df['nsamples'] = nsamples\n",
    "        df_best_roussillon = df_best_roussillon.append(df[info],ignore_index=True)\n",
    "df_best_roussillon  "
   ]
  },
  {
   "cell_type": "code",
   "execution_count": null,
   "metadata": {},
   "outputs": [],
   "source": [
    "new_columns = {\n",
    "    \"param_TI\" : \"TI\",\n",
    "    \"param_distanceThreshold\" : \"t\",\n",
    "    \"param_maxScanFraction\" : \"f\",\n",
    "    \"param_nneighboringNode\" : \"n\",\n",
    "    \"mean_test_score\" : \"score\",\n",
    "    \"ref_score\" : \"reference\",   \n",
    "    \"score_method\" : \"function\",\n",
    "    \"nsamples\" : \"wells\",\n",
    "}\n",
    "\n",
    "df_renamed = df_best_roussillon.rename(columns=new_columns)\n",
    "df_renamed.head()"
   ]
  },
  {
   "cell_type": "code",
   "execution_count": null,
   "metadata": {},
   "outputs": [],
   "source": [
    "def transform_entries(df_original):\n",
    "    df = df_original.copy()\n",
    "    df['TI'] = df['TI'].apply(lambda x: x.split('/')[1].split('TI')[0])\n",
    "    df['t'] = df['t'].apply(lambda x: eval(x)[0])\n",
    "    df['n'] = df['n'].apply(lambda x: eval(x)[0])\n",
    "    df['score'] = df['score'].round(2)\n",
    "    df['reference'] = df['reference'].round(2)\n",
    "    df['function'] = df['function'].apply(lambda x: x.replace('_', '-'))\n",
    "    return df\n",
    "\n",
    "df_publication = transform_entries(df_renamed)\n",
    "df_publication.head()"
   ]
  },
  {
   "cell_type": "code",
   "execution_count": null,
   "metadata": {},
   "outputs": [],
   "source": [
    "df_latex = df_publication[['wells', 'function', 'TI', 'score', 'reference', 't', 'f', 'n']].to_latex('tables/table-roussillon.tex', index=False)\n"
   ]
  },
  {
   "cell_type": "markdown",
   "metadata": {},
   "source": [
    "# Figures for publication"
   ]
  },
  {
   "cell_type": "code",
   "execution_count": null,
   "metadata": {},
   "outputs": [],
   "source": [
    "COLOR_SCHEME = [ \n",
    "        [x/255 for x in [166,206,227]],  \n",
    "        [x/255 for x in [31,120,180]],\n",
    "        [x/255 for x in [51,160,44]],\n",
    "      ]\n",
    "FONTSIZE = 16\n",
    "FIG_DIR = 'figures/'\n",
    "DPI=600\n",
    "\n",
    "import matplotlib\n",
    "\n",
    "matplotlib.rcParams[\"image.interpolation\"] = None\n",
    "matplotlib.rcParams['pdf.fonttype'] = 42"
   ]
  },
  {
   "cell_type": "code",
   "execution_count": null,
   "metadata": {},
   "outputs": [],
   "source": [
    "def sensitivity_plot(test_case, title, ylabel, scoring, filename, score, ylim=[-1.0, 0.0], loc='lower right'):\n",
    "    fig = plt.figure(figsize=(5,5))\n",
    "    ax = plt.axes()\n",
    "    df = sensitivity_results[test_case]\n",
    "    colors=COLOR_SCHEME\n",
    "    labels=['TI: A', 'TI: B', 'TI: C', 'ref.']\n",
    "    markers=['o', 'x', '*']\n",
    "\n",
    "    for i, ti in enumerate(['A', 'B', 'C']):\n",
    "        df_plot = df[df['param_TI'] == 'data/{}.gslib'.format(ti)]\n",
    "        ax.plot(df_plot['param_nrealization'], df_plot[scoring], label=labels[i], linestyle='--', color=colors[i], marker=markers[i])\n",
    "    # reference line\n",
    "    x = np.linspace(0,50)\n",
    "    ax.plot(x, np.ones(len(x))*reference_score(SAMPLES_DIR+'sample_{}_50.gslib'.format(test_case), score), linestyle='--', color='black', label=labels[-1])\n",
    "    \n",
    "    ax.legend(loc=loc, fontsize=FONTSIZE, ncol=2)\n",
    "    ax.set_xlabel(\"#realizations\", fontsize=FONTSIZE)\n",
    "    ax.set_ylim(ylim)\n",
    "    ax.set_ylabel(\" \", fontsize=FONTSIZE)  \n",
    "    ax.set_title(\"{}, {}\".format(ylabel,title), fontsize=FONTSIZE)\n",
    "    ax.tick_params(axis='both', which='major', labelsize=FONTSIZE)\n",
    "    plt.savefig(filename, dpi=DPI, bbox_inches='tight')\n",
    "    #!convert -trim $filename $filename\n",
    "    !pdfcrop $filename $filename"
   ]
  },
  {
   "cell_type": "code",
   "execution_count": null,
   "metadata": {},
   "outputs": [],
   "source": [
    "sensitivity_plot('A', 'a)','mean quadratic score', 'mean_test_brier', FIG_DIR+'sensitivity_A_brier.pdf', brier_score)"
   ]
  },
  {
   "cell_type": "code",
   "execution_count": null,
   "metadata": {},
   "outputs": [],
   "source": [
    "sensitivity_plot('B', 'b)','mean quadratic score', 'mean_test_brier', FIG_DIR+'sensitivity_B_brier.pdf', brier_score)"
   ]
  },
  {
   "cell_type": "code",
   "execution_count": null,
   "metadata": {},
   "outputs": [],
   "source": [
    "sensitivity_plot('C', 'c)','mean quadratic score', 'mean_test_brier', FIG_DIR+'sensitivity_C_brier.pdf', brier_score)"
   ]
  },
  {
   "cell_type": "code",
   "execution_count": null,
   "metadata": {},
   "outputs": [],
   "source": [
    "sensitivity_plot('A', 'a)','mean zero-one score', 'mean_test_zero_one', FIG_DIR+'sensitivity_A_zero_one.pdf', score=zero_one_score, ylim=[0.5,1], loc=None)"
   ]
  },
  {
   "cell_type": "code",
   "execution_count": null,
   "metadata": {},
   "outputs": [],
   "source": [
    "sensitivity_plot('B', 'b)','mean zero-one score', 'mean_test_zero_one', FIG_DIR+'sensitivity_B_zero_one.pdf', score=zero_one_score, ylim=[0.5,1], loc='upper right')"
   ]
  },
  {
   "cell_type": "code",
   "execution_count": null,
   "metadata": {},
   "outputs": [],
   "source": [
    "sensitivity_plot('C', 'c)','mean zero-one score', 'mean_test_zero_one', FIG_DIR+'sensitivity_C_zero_one.pdf', score=zero_one_score, ylim=[0.5,1], loc=(0.2,0.6))"
   ]
  },
  {
   "cell_type": "code",
   "execution_count": null,
   "metadata": {},
   "outputs": [],
   "source": [
    "sensitivity_plot('A', 'a)','mean balanced linear score', 'mean_test_linear', FIG_DIR+'sensitivity_A_linear.pdf', score=balanced_linear_score, ylim=[0.3,1], loc=\"upper right\")"
   ]
  },
  {
   "cell_type": "code",
   "execution_count": null,
   "metadata": {},
   "outputs": [],
   "source": [
    "sensitivity_plot('B', 'b)','mean balanced linear score', 'mean_test_linear', FIG_DIR+'sensitivity_B_linear.pdf', score=balanced_linear_score, ylim=[0.3,1])"
   ]
  },
  {
   "cell_type": "code",
   "execution_count": null,
   "metadata": {},
   "outputs": [],
   "source": [
    "sensitivity_plot('C', 'c)','mean balanced linear score', 'mean_test_linear', FIG_DIR+'sensitivity_C_linear.pdf', score=balanced_linear_score, ylim=[0.3,1])"
   ]
  },
  {
   "cell_type": "markdown",
   "metadata": {},
   "source": [
    "## TI selection"
   ]
  },
  {
   "cell_type": "code",
   "execution_count": null,
   "metadata": {},
   "outputs": [],
   "source": [
    "def ti_selection_plot(test_case, title, ylabel, scoring, filename, score_ref, ylim=[-1,0], loc=\"lower right\"):\n",
    "    fig = plt.figure(figsize=(5,5))\n",
    "    ax = plt.axes()\n",
    "    df = df_ti_selection[df_ti_selection.type==test_case].sort_values(by = 'nsamples')\n",
    "    colors=COLOR_SCHEME\n",
    "    labels=['TI: A', 'TI: B', 'TI: C', 'ref']\n",
    "    markers=['o', 'x', '*']\n",
    "    for i, ti in enumerate(['A', 'B', 'C']):\n",
    "        df_plot = df[df['param_TI'] == 'data/{}.gslib'.format(ti)]\n",
    "        ax.semilogx(df_plot['nsamples'], df_plot[scoring], label=labels[i], linestyle='--', color=colors[i], marker=markers[i])\n",
    "    ax.semilogx(df_plot['nsamples'], df_plot[score_ref], label=labels[-1], linestyle='--', color='black')\n",
    "    #ax.legend(loc=loc, fontsize=FONTSIZE, ncol=2)\n",
    "    ax.set_xlabel(\"#samples\", fontsize=FONTSIZE)\n",
    "    ax.set_ylim(ylim)\n",
    "    ax.set_title(\"{}, {}\".format(ylabel,title), fontsize=FONTSIZE)\n",
    "    ax.tick_params(axis='both', which='major', labelsize=FONTSIZE)\n",
    "    plt.savefig(filename, dpi=DPI, bbox_inches='tight')\n",
    "    #!convert -trim $filename $filename\n",
    "    !pdfcrop $filename $filename"
   ]
  },
  {
   "cell_type": "code",
   "execution_count": null,
   "metadata": {},
   "outputs": [],
   "source": [
    "ti_selection_plot('A', 'a)','mean quadratic score', 'mean_test_brier', FIG_DIR+'ti_selection_A_brier.pdf', 'ref_brier')"
   ]
  },
  {
   "cell_type": "code",
   "execution_count": null,
   "metadata": {},
   "outputs": [],
   "source": [
    "ti_selection_plot('B', 'b)','mean quadratic score', 'mean_test_brier', FIG_DIR+'ti_selection_B_brier.pdf', score_ref='ref_brier')"
   ]
  },
  {
   "cell_type": "code",
   "execution_count": null,
   "metadata": {},
   "outputs": [],
   "source": [
    "ti_selection_plot('C', 'c)','mean quadratic score', 'mean_test_brier', FIG_DIR+'ti_selection_C_brier.pdf', score_ref='ref_brier')"
   ]
  },
  {
   "cell_type": "code",
   "execution_count": null,
   "metadata": {},
   "outputs": [],
   "source": [
    "ti_selection_plot('A', 'a)','mean zero-one score', 'mean_test_zero_one', FIG_DIR+'ti_selection_A_zero_one.pdf', ylim=[0.5,1], score_ref='ref_zero_one', loc=\"upper left\")"
   ]
  },
  {
   "cell_type": "code",
   "execution_count": null,
   "metadata": {},
   "outputs": [],
   "source": [
    "ti_selection_plot('B', 'b)','mean zero-one score', 'mean_test_zero_one', FIG_DIR+'ti_selection_B_zero_one.pdf', ylim=[0.5,1], score_ref='ref_zero_one', loc=\"upper left\")"
   ]
  },
  {
   "cell_type": "code",
   "execution_count": null,
   "metadata": {},
   "outputs": [],
   "source": [
    "ti_selection_plot('C', 'c)','mean zero-one score', 'mean_test_zero_one', FIG_DIR+'ti_selection_C_zero_one.pdf', ylim=[0.5,1], score_ref='ref_zero_one')"
   ]
  },
  {
   "cell_type": "code",
   "execution_count": null,
   "metadata": {},
   "outputs": [],
   "source": [
    "ti_selection_plot('A', 'a)','mean balanced linear score', 'mean_test_linear', FIG_DIR+'ti_selection_A_linear.pdf', ylim=[0.3,1], score_ref='ref_linear')"
   ]
  },
  {
   "cell_type": "code",
   "execution_count": null,
   "metadata": {},
   "outputs": [],
   "source": [
    "ti_selection_plot('B', 'b)','mean balanced linear score', 'mean_test_linear', FIG_DIR+'ti_selection_B_linear.pdf', ylim=[0.3,1], score_ref='ref_linear')"
   ]
  },
  {
   "cell_type": "code",
   "execution_count": null,
   "metadata": {},
   "outputs": [],
   "source": [
    "ti_selection_plot('C', 'c)','mean balanced linear score', 'mean_test_linear', FIG_DIR+'ti_selection_C_linear.pdf', ylim=[0.3,1], score_ref='ref_linear')"
   ]
  },
  {
   "cell_type": "markdown",
   "metadata": {},
   "source": [
    "## Roussillon\n",
    "\n",
    "Plot example simulations."
   ]
  },
  {
   "cell_type": "code",
   "execution_count": null,
   "metadata": {},
   "outputs": [],
   "source": [
    "ti_true = readImageGslib(DATA_DIR+'trueTI.gslib')\n",
    "ti_analog = readImageGslib(DATA_DIR+'analogTI.gslib')\n",
    "mask = readImageGslib(DATA_DIR+'mask.gslib')\n",
    "trend = readImageGslib(DATA_DIR+'trend.gslib')\n",
    "im_angle = readImageGslib(DATA_DIR+'orientation.gslib')\n",
    "nx, ny, nz = mask.nx, mask.ny, mask.nz      # number of cells\n",
    "sx, sy, sz = mask.sx, mask.sy, mask.sz      # cell unit\n",
    "ox, oy, oz = mask.ox, mask.oy, mask.oz      # origin (corner of the \"first\" grid cell)\n",
    "\n",
    "deesse = DeesseEstimator(\n",
    "    varnames=['X','Y','Z','Facies'],\n",
    "    nx=nx, ny=ny, nz=nz,\n",
    "    sx=sx, sy=sy, sz=sz,\n",
    "    ox=ox, oy=oy, oz=oz,\n",
    "    nv=2, varname=['Facies', 'trend'],\n",
    "    nTI=1, TI=ti_true,\n",
    "    mask=mask.val,\n",
    "    rotationUsage=1,            # use rotation without tolerance\n",
    "    rotationAzimuthLocal=True,  #    rotation according to azimuth: local\n",
    "    rotationAzimuth=im_angle.val[0,:,:,:],      #    rotation azimuth: map of values\n",
    "    dataImage=trend,\n",
    "    outputVarFlag=[True, False],\n",
    "    distanceType=[0,1],\n",
    "    nneighboringNode=[50,1],\n",
    "    distanceThreshold=[0.05, 0.05],\n",
    "    maxScanFraction=0.5,\n",
    "    npostProcessingPathMax=1,\n",
    "    seed=20191201,\n",
    "    nrealization=1,\n",
    "    nthreads=8,\n",
    ")\n",
    "\n",
    "def simulate(nsamples, TI, nneighboringNode,distanceThreshold, maxScanFraction):\n",
    "    hd = pd.DataFrame(readPointSetGslib(SAMPLES_DIR+'roussillon_observations_{}.gslib'.format(nsamples)).to_dict())\n",
    "    deesse.set_params(\n",
    "        TI=TI,\n",
    "        nneighboringNode=nneighboringNode,\n",
    "        distanceThreshold=distanceThreshold,\n",
    "        maxScanFraction=maxScanFraction\n",
    "    )\n",
    "    deesse.fit(hd[['X', 'Y', 'Z']], hd['Facies_real00000'])\n",
    "    return deesse.simulate()"
   ]
  },
  {
   "cell_type": "code",
   "execution_count": null,
   "metadata": {},
   "outputs": [],
   "source": [
    "def plot_example_roussillon(score_name, nsamples, n, t, f, ti_name, removeColorbar=True):\n",
    "\n",
    "    ti = readImageGslib(ti_name)\n",
    "    if ti_name == 'data/trueTI.gslib':\n",
    "        ti_shortname = 'true'\n",
    "    else:\n",
    "        ti_shortname = 'analog'\n",
    "        \n",
    "    if score_name == 'brier':\n",
    "        score_name = 'quadratic'\n",
    "    elif score_name == 'zero_one':\n",
    "        score_name = 'zero-one'\n",
    "    filename = FIG_DIR + \"ex_roussillon_{0}_{1}_{2}.pdf\".format(nsamples, score_name, ti_shortname)\n",
    "\n",
    "\n",
    "    FONT_SIZE = 16\n",
    "    COLOR_SCHEME_ROUSSILLON = [ \n",
    "            [x/255 for x in [166,206,227]],\n",
    "            [x/255 for x in [178,223,138]],   \n",
    "            [x/255 for x in [31,120,180]],\n",
    "            [x/255 for x in [51,160,44]],\n",
    "          ]\n",
    "    LEGEND = ['alluvial fan', 'flood plain', 'splay', 'river bed']\n",
    "    EXCLUDED_VAL = -9999999\n",
    "\n",
    "    image = simulate(nsamples, ti, n, t, f)['sim'][0]\n",
    "\n",
    "    fig = plt.figure(figsize=(5,5))\n",
    "    fig.subplots_adjust(left=0.05, right=0.9)\n",
    "    xmin, xmax = [int(x) for x in [image.xmin(), image.xmax()]]\n",
    "    ymin, ymax = [int(y) for y in [image.ymin(), image.ymax()]]\n",
    "    drawImage2D(image, excludedVal=EXCLUDED_VAL,\n",
    "                title = \"{0} wells, {1}, {2} TI\".format(nsamples, score_name, ti_shortname),\n",
    "                removeColorbar=removeColorbar,\n",
    "                categ=True,\n",
    "                categColbad='white',\n",
    "                categCol=COLOR_SCHEME_ROUSSILLON,\n",
    "                cticklabels=LEGEND,\n",
    "                title_fontsize=FONT_SIZE,\n",
    "                cticklabels_fontsize=FONT_SIZE,\n",
    "                xlabels_fontsize=FONT_SIZE,\n",
    "                ylabels_fontsize=FONT_SIZE,\n",
    "                xticklabels = [xmin, xmax],\n",
    "                yticklabels = [ymin, ymax],\n",
    "                xticklabels_fontsize=FONT_SIZE,\n",
    "                yticklabels_fontsize=FONT_SIZE,\n",
    "                xticks=[xmin, xmax],\n",
    "                yticks=[ymin, ymax],\n",
    "                ylabel_rotation=0,\n",
    "               )\n",
    "    \n",
    "    #plt.scatter(point_set_roussillon.x(), point_set_roussillon.y(), marker= 'x', s=30, c='black')\n",
    "    plt.savefig(filename, dpi=DPI, bbox_inches=\"tight\")\n",
    "    #!convert -trim $filename $filename\n",
    "    !pdfcrop $filename $filename"
   ]
  },
  {
   "cell_type": "code",
   "execution_count": null,
   "metadata": {},
   "outputs": [],
   "source": [
    "plot_example_roussillon('brier', 150, [10, 1], [0.5, 0.1], 0.001, 'data/trueTI.gslib')"
   ]
  },
  {
   "cell_type": "code",
   "execution_count": null,
   "metadata": {
    "scrolled": false
   },
   "outputs": [],
   "source": [
    "for index, row in df_best_roussillon.iterrows():\n",
    "    plot_example_roussillon(row['score_method'], row['nsamples'], eval(row['param_nneighboringNode']),\n",
    "                           eval(row['param_distanceThreshold']), row['param_maxScanFraction'],\n",
    "                           row['param_TI'])"
   ]
  }
 ],
 "metadata": {
  "kernelspec": {
   "display_name": "Python 3",
   "language": "python",
   "name": "python3"
  },
  "language_info": {
   "codemirror_mode": {
    "name": "ipython",
    "version": 3
   },
   "file_extension": ".py",
   "mimetype": "text/x-python",
   "name": "python",
   "nbconvert_exporter": "python",
   "pygments_lexer": "ipython3",
   "version": "3.6.9"
  }
 },
 "nbformat": 4,
 "nbformat_minor": 2
}
