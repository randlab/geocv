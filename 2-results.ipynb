{
 "cells": [
  {
   "cell_type": "markdown",
   "metadata": {},
   "source": [
    "# Apply cross validation"
   ]
  },
  {
   "cell_type": "code",
   "execution_count": null,
   "metadata": {},
   "outputs": [],
   "source": [
    "import os\n",
    "\n",
    "import numpy as np\n",
    "import pandas as pd\n",
    "from sklearn.model_selection import GridSearchCV\n",
    "from sklearn.model_selection import StratifiedKFold\n",
    "from sklearn.dummy import DummyClassifier\n",
    "\n",
    "from geone.img import readImageGslib, readPointSetGslib\n",
    "from geone.deesseinterface import DeesseClassifier\n",
    "from geone.imgplot import drawImage2D\n",
    "from mpstool.cv_metrics import brier_score, zero_one_score, balanced_linear_score, SkillScore"
   ]
  },
  {
   "cell_type": "code",
   "execution_count": null,
   "metadata": {},
   "outputs": [],
   "source": [
    "DATA_DIR = 'data/'\n",
    "SAMPLES_DIR = 'samples/'\n",
    "OUTPUT_DIR = 'output/'\n",
    "COLOR_SCHEME_BINARY = [ \n",
    "        [x/255 for x in [166,206,227]],\n",
    "        [x/255 for x in [31,120,180]],\n",
    "      ]"
   ]
  },
  {
   "cell_type": "code",
   "execution_count": null,
   "metadata": {},
   "outputs": [],
   "source": [
    "# Stratified 5-fold cross-validation with randomly shuffled data\n",
    "cv = StratifiedKFold(n_splits=5,\n",
    "                     shuffle=True,\n",
    "                     random_state=20191201,\n",
    "                    )\n",
    "\n",
    "scoring = {\n",
    "    'brier':brier_score,\n",
    "    'zero_one':zero_one_score,\n",
    "    'linear':balanced_linear_score,\n",
    "    'skill_brier':SkillScore(DummyClassifier(strategy='prior'), 0, brier_score),\n",
    "    'skill_zero_one':SkillScore(DummyClassifier(strategy='prior'), 1, zero_one_score),\n",
    "}"
   ]
  },
  {
   "cell_type": "markdown",
   "metadata": {},
   "source": [
    "## Training image selection"
   ]
  },
  {
   "cell_type": "code",
   "execution_count": null,
   "metadata": {},
   "outputs": [],
   "source": [
    "# Load training images\n",
    "ti_A = readImageGslib(DATA_DIR+'A.gslib')\n",
    "ti_B = readImageGslib(DATA_DIR+'B.gslib')\n",
    "ti_C = readImageGslib(DATA_DIR+'C.gslib')"
   ]
  },
  {
   "cell_type": "markdown",
   "metadata": {},
   "source": [
    "### Sensitivity analysis"
   ]
  },
  {
   "cell_type": "code",
   "execution_count": null,
   "metadata": {},
   "outputs": [],
   "source": [
    "# Load observations\n",
    "observations_A = readPointSetGslib(SAMPLES_DIR + 'sample_A_50.gslib').to_dict()\n",
    "observations_B = readPointSetGslib(SAMPLES_DIR + 'sample_B_50.gslib').to_dict()\n",
    "observations_C = readPointSetGslib(SAMPLES_DIR + 'sample_C_50.gslib').to_dict()"
   ]
  },
  {
   "cell_type": "code",
   "execution_count": null,
   "metadata": {},
   "outputs": [],
   "source": [
    "# We can conveniently use pandas to look at observations\n",
    "df_A = pd.DataFrame(observations_A)\n",
    "df_B = pd.DataFrame(observations_B)\n",
    "df_C = pd.DataFrame(observations_C)\n",
    "df_A.head()"
   ]
  },
  {
   "cell_type": "code",
   "execution_count": null,
   "metadata": {},
   "outputs": [],
   "source": [
    "# Define the interface for the DeeSse simulation tool\n",
    "deesse_classifier = DeesseClassifier(\n",
    "    varnames = ['X','Y','Z', 'facies'],\n",
    "        nx=100, ny=100, nz=1,     # dimension of the simulation grid (number of cells)\n",
    "        sx=1.0, sy=1.0, sz=1.0,   # cells units in the simulation grid (here are the default values)\n",
    "        ox=0.0, oy=0.0, oz=0.0,   # origin of the simulation grid (here are the default values)\n",
    "        nv=1, varname='facies',   # number of variable(s), name of the variable(s)\n",
    "        nTI=1, TI=ti_A,           # number of TI(s), TI (class dsi.Img)\n",
    "        distanceType=0,           # distance type: proportion of mismatching nodes (categorical var., default)\n",
    "        nneighboringNode=60,      # max. number of neighbors (for the patterns)\n",
    "        distanceThreshold=0.1,    # acceptation threshold (for distance between patterns)\n",
    "        maxScanFraction=0.25,     # max. scanned fraction of the TI (for simulation of each cell)\n",
    "        npostProcessingPathMax=1, # number of post-processing path(s)\n",
    "        seed=20191201,            # seed (initialization of the random number generator)\n",
    "        nrealization=30,           # number of realization(s)\n",
    "        nthreads=4)"
   ]
  },
  {
   "cell_type": "code",
   "execution_count": null,
   "metadata": {},
   "outputs": [],
   "source": [
    "%%time\n",
    "# Do an example simulation using the parameters and plot it\n",
    "example_simulation = deesse_classifier.simulate()['sim'][0]\n",
    "drawImage2D(example_simulation, categ=True, categCol=COLOR_SCHEME_BINARY)"
   ]
  },
  {
   "cell_type": "code",
   "execution_count": null,
   "metadata": {},
   "outputs": [],
   "source": [
    "# Use sklearn's grid search CV to check results for different parameters: here number of realisations and training images\n",
    "sensitivity_checker = GridSearchCV(deesse_classifier,\n",
    "                    param_grid={'TI': [ti_A, ti_B, ti_C],\n",
    "                                'nrealization' : range(1, 50, 3)},\n",
    "                    scoring=scoring,\n",
    "                    n_jobs=8,\n",
    "                    cv=cv,\n",
    "                    refit=False,\n",
    "                    verbose=0,\n",
    "                    error_score='raise',\n",
    "                    return_train_score=False,\n",
    "                   )"
   ]
  },
  {
   "cell_type": "code",
   "execution_count": null,
   "metadata": {
    "scrolled": false
   },
   "outputs": [],
   "source": [
    "%%time\n",
    "for df, testcase in zip([df_A, df_B, df_C], ['A', 'B', 'C']):\n",
    "    sensitivity_checker.fit(df[['X','Y','Z']], df['code_real00000'])\n",
    "    results = pd.DataFrame(sensitivity_checker.cv_results_)\n",
    "    results.to_csv(OUTPUT_DIR+'sensitivity_{}.csv'.format(testcase))"
   ]
  },
  {
   "cell_type": "markdown",
   "metadata": {},
   "source": [
    "### Training image selection"
   ]
  },
  {
   "cell_type": "code",
   "execution_count": null,
   "metadata": {},
   "outputs": [],
   "source": [
    "%%time\n",
    "# Evaluate score for each observation set with the three TIs\n",
    "observation_files = [file for file in os.listdir(SAMPLES_DIR) if file.endswith(\".gslib\") and file.startswith(\"sample\")]\n",
    "for observation_file in observation_files:\n",
    "    observation = readPointSetGslib(SAMPLES_DIR + observation_file).to_dict()\n",
    "    df = pd.DataFrame(observation)    \n",
    "    ti_selector =  GridSearchCV(deesse_classifier,\n",
    "                        param_grid={'TI': [ti_A, ti_B, ti_C]},\n",
    "                        scoring=scoring,\n",
    "                        n_jobs=3,\n",
    "                        cv=cv,\n",
    "                        refit=False,\n",
    "                        verbose=0,\n",
    "                        error_score='raise',\n",
    "                        return_train_score=False,\n",
    "                       )\n",
    "    ti_selector.fit(df[['X','Y','Z']], df['code_real00000'])\n",
    "    results = pd.DataFrame(ti_selector.cv_results_)\n",
    "    results.to_csv(OUTPUT_DIR+observation_file.split('.')[0]+'.csv')"
   ]
  },
  {
   "cell_type": "markdown",
   "metadata": {},
   "source": [
    "## Roussillon"
   ]
  },
  {
   "cell_type": "code",
   "execution_count": null,
   "metadata": {},
   "outputs": [],
   "source": [
    "ti_true = readImageGslib(DATA_DIR+'trueTI.gslib')\n",
    "ti_analog = readImageGslib(DATA_DIR+'analogTI.gslib')\n",
    "mask = readImageGslib(DATA_DIR+'mask.gslib')\n",
    "trend = readImageGslib(DATA_DIR+'trend.gslib')\n",
    "im_angle = readImageGslib(DATA_DIR+'orientation.gslib')"
   ]
  },
  {
   "cell_type": "code",
   "execution_count": null,
   "metadata": {},
   "outputs": [],
   "source": [
    "nx, ny, nz = mask.nx, mask.ny, mask.nz      # number of cells\n",
    "sx, sy, sz = mask.sx, mask.sy, mask.sz      # cell unit\n",
    "ox, oy, oz = mask.ox, mask.oy, mask.oz      # origin (corner of the \"first\" grid cell)\n",
    "\n",
    "deesse_roussillon = DeesseClassifier(\n",
    "    varnames=['X','Y','Z','Facies'],\n",
    "    nx=nx, ny=ny, nz=nz,\n",
    "    sx=sx, sy=sy, sz=sz,\n",
    "    ox=ox, oy=oy, oz=oz,\n",
    "    nv=2, varname=['Facies', 'trend'],\n",
    "    nTI=1, TI=ti_true,\n",
    "    mask=mask.val,\n",
    "    rotationUsage=1,            # use rotation without tolerance\n",
    "    rotationAzimuthLocal=True,  #    rotation according to azimuth: local\n",
    "    rotationAzimuth=im_angle.val[0,:,:,:],      #    rotation azimuth: map of values\n",
    "    dataImage=trend,\n",
    "    outputVarFlag=[True, False],\n",
    "    distanceType=[0,1],\n",
    "    nneighboringNode=[50,1],\n",
    "    distanceThreshold=[0.05, 0.05],\n",
    "    maxScanFraction=0.5,\n",
    "    npostProcessingPathMax=1,\n",
    "    seed=20191201,\n",
    "    nrealization=30,\n",
    "    nthreads=32,\n",
    ")"
   ]
  },
  {
   "cell_type": "code",
   "execution_count": null,
   "metadata": {},
   "outputs": [],
   "source": [
    "parameter_selector = GridSearchCV(deesse_roussillon,\n",
    "                    param_grid={'TI': [ti_true, ti_analog],\n",
    "                                'maxScanFraction': [0.005, 0.01, 0.02, 0.05, 0.1, 0.2, 0.4, 0.8],\n",
    "                                'nneighboringNode': [[40, 1], [20, 1], [10, 1], [5, 1]],\n",
    "                                'distanceThreshold': [[0.01, 0.05], [0.05, 0.05], [0.1, 0.05], [0.2, 0.05]]},\n",
    "                    scoring=scoring,\n",
    "                    n_jobs=1,\n",
    "                    cv=cv,\n",
    "                    refit=False,\n",
    "                    verbose=0,\n",
    "                    error_score='raise',\n",
    "                    return_train_score=False,\n",
    "                   )"
   ]
  },
  {
   "cell_type": "code",
   "execution_count": null,
   "metadata": {
    "scrolled": true
   },
   "outputs": [],
   "source": [
    "%%time\n",
    "roussillon_files = [file for file in os.listdir(SAMPLES_DIR) if file.endswith(\".gslib\") and file.startswith(\"roussillon\")]\n",
    "for observation_file in roussillon_files:\n",
    "    df = pd.DataFrame(readPointSetGslib(SAMPLES_DIR + observation_file).to_dict())\n",
    "    parameter_selector.fit(df[['X','Y','Z']], df['Facies_real00000'])\n",
    "    results = pd.DataFrame(parameter_selector.cv_results_)\n",
    "    results.to_csv(OUTPUT_DIR+observation_file.split('.')[0]+'.csv')"
   ]
  }
 ],
 "metadata": {
  "kernelspec": {
   "display_name": "Python 3",
   "language": "python",
   "name": "python3"
  },
  "language_info": {
   "codemirror_mode": {
    "name": "ipython",
    "version": 3
   },
   "file_extension": ".py",
   "mimetype": "text/x-python",
   "name": "python",
   "nbconvert_exporter": "python",
   "pygments_lexer": "ipython3",
   "version": "3.6.9"
  }
 },
 "nbformat": 4,
 "nbformat_minor": 2
}
